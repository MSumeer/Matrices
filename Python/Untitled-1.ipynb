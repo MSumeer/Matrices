{
 "metadata": {
  "language_info": {
   "codemirror_mode": {
    "name": "ipython",
    "version": 3
   },
   "file_extension": ".py",
   "mimetype": "text/x-python",
   "name": "python",
   "nbconvert_exporter": "python",
   "pygments_lexer": "ipython3",
   "version": "3.8.5"
  },
  "orig_nbformat": 4,
  "kernelspec": {
   "name": "python3",
   "display_name": "Python 3.8.5 64-bit"
  },
  "interpreter": {
   "hash": "31f2aee4e71d21fbe5cf8b01ff0e069b9275f58929596ceb00d14d90e3e16cd6"
  }
 },
 "nbformat": 4,
 "nbformat_minor": 2,
 "cells": [
  {
   "cell_type": "code",
   "execution_count": 2,
   "metadata": {},
   "outputs": [
    {
     "output_type": "stream",
     "name": "stdout",
     "text": [
      "Collecting numpy\n",
      "  Downloading numpy-1.20.3-cp38-cp38-manylinux_2_12_x86_64.manylinux2010_x86_64.whl (15.4 MB)\n",
      "\u001b[K     |████████████████████████████████| 15.4 MB 7.4 MB/s \n",
      "\u001b[?25hInstalling collected packages: numpy\n",
      "\u001b[33m  WARNING: The scripts f2py, f2py3 and f2py3.8 are installed in '/home/sumeer/.local/bin' which is not on PATH.\n",
      "  Consider adding this directory to PATH or, if you prefer to suppress this warning, use --no-warn-script-location.\u001b[0m\n",
      "Successfully installed numpy-1.20.3\n"
     ]
    }
   ],
   "source": [
    "!pip install numpy"
   ]
  },
  {
   "source": [
    "# Matrix addition"
   ],
   "cell_type": "markdown",
   "metadata": {}
  },
  {
   "cell_type": "code",
   "execution_count": 22,
   "metadata": {},
   "outputs": [
    {
     "output_type": "stream",
     "name": "stdout",
     "text": [
      "[[0 1 2]\n [3 4 5]] + [[ 6  7  8]\n [ 9 10 11]] = [[ 6  8 10]\n [12 14 16]]\n"
     ]
    }
   ],
   "source": [
    "import numpy as np\n",
    "\n",
    "#Matrix addition using Numpy\n",
    "\n",
    "A = np.arange(6).reshape(2,-1)\n",
    "B = np.arange(6,12).reshape(2,-1)\n",
    "C = A+B\n",
    "\n",
    "print(A,\"+\",B,\"=\",C)\n"
   ]
  },
  {
   "cell_type": "code",
   "execution_count": 43,
   "metadata": {},
   "outputs": [
    {
     "output_type": "stream",
     "name": "stdout",
     "text": [
      "[[1, 2], [1, 2]] * [[4, 5], [4, 5]] = [[4, 10, 0], [4, 10, 0]]\n"
     ]
    }
   ],
   "source": [
    "A = [[ i for i in range(1,3)]for j in range(2)]\n",
    "B = [[ i for i in range(4,6)]for j in range(2)]\n",
    "Zipped = zip(A,B)\n",
    "index = [0,0]\n",
    "if(len(A[0])!=len(B[0])):\n",
    "    print(\"matrices cannot be multiplied!\")\n",
    "else:\n",
    "    C = [[0 for i in range(len(A[0]))]for i in range(len(A))]\n",
    "    for arr_a,arr_b in Zipped:\n",
    "        Zipped_2 = zip(arr_a,arr_b)\n",
    "        for a,b in Zipped_2:\n",
    "            c = a*b\n",
    "            C[index[0]][index[1]] = c\n",
    "            index[1]+=1\n",
    "            if index[1]==len(A[0]):\n",
    "                index[0]+=1\n",
    "                index[1]=0\n",
    "    print(A,\"*\",B,\"=\",C)\n",
    "\n"
   ]
  },
  {
   "cell_type": "code",
   "execution_count": null,
   "metadata": {},
   "outputs": [],
   "source": []
  }
 ]
}